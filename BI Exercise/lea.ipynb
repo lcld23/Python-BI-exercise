{
 "cells": [
  {
   "cell_type": "code",
   "execution_count": 5,
   "id": "aad2b3bd",
   "metadata": {},
   "outputs": [],
   "source": [
    "import pandas as pd\n",
    "import numpy as np\n",
    "import string\n",
    "import random"
   ]
  },
  {
   "cell_type": "code",
   "execution_count": 6,
   "id": "a266e049",
   "metadata": {},
   "outputs": [],
   "source": [
    "def id_generator(size=10, chars=string.ascii_uppercase + string.digits):\n",
    "    return ''.join(random.choice(chars) for _ in range(size))"
   ]
  },
  {
   "cell_type": "code",
   "execution_count": 4,
   "id": "2c479e9c",
   "metadata": {},
   "outputs": [],
   "source": [
    "# I create fake data\n",
    "\n",
    "if False:\n",
    "\n",
    "    headers_name = ['category_id', 'category_name', 'product_id', 'product_name', 'price', 'quantity']\n",
    "    db = pd.DataFrame(np.random.randint(0,100000,size=(100, len(headers_name))), columns = headers_name)\n",
    "\n",
    "    category_name = [id_generator() for k in range(100)]\n",
    "    product_name = [id_generator() for k in range(100)]\n",
    "    \n",
    "    db.category_name = category_name\n",
    "    db.product_name = product_name\n",
    "    \n",
    "    np.savetxt(r'category.txt', db[['category_id','category_name']].values, fmt='%s')\n",
    "    np.savetxt(r'product.txt', db[['product_id','product_name']].values, fmt='%s')\n",
    "    \n",
    "    db.to_csv('market.csv', index=False)\n",
    "    db.head(5)"
   ]
  },
  {
   "cell_type": "code",
   "execution_count": null,
   "id": "2e237d6d",
   "metadata": {},
   "outputs": [],
   "source": [
    "choice = 'whatwewant'\n",
    "db = pd.read_csv('market.csv')\n",
    "\n",
    "while choice != '5':\n",
    "    \n",
    "    choice = input(\"\"\"What do you want to do? \\n\n",
    "                    1. Absorption of category names; \\n\n",
    "                    2. Absorption of product names; \\n\n",
    "                    3. Making a purchase; \\n\n",
    "                    4. Display inventory status; \\n\n",
    "                    5. Exit.\\n\\n\"\"\")\n",
    "    \n",
    "    if choice not in ['1','2','3','4','5']:\n",
    "        print('We only have five choices!!!!')\n",
    "\n",
    "    if choice == '1':\n",
    "\n",
    "        category = np.loadtxt('category.txt', dtype = str)\n",
    "        dictionary_category = {}\n",
    "\n",
    "        for i in range(len(category)):\n",
    "            dictionary_category[category[i][0]] = category[i][1]\n",
    "\n",
    "        print('Categories dictionary')\n",
    "        print(dictionary_category)\n",
    "\n",
    "    if choice == '2':\n",
    "\n",
    "        product = np.loadtxt('product.txt', dtype = str)\n",
    "        dictionary_product = {}\n",
    "\n",
    "        for i in range(len(product)):\n",
    "            dictionary_product[product[i][0]] = product[i][1]\n",
    "            \n",
    "        print('Products dictionary')\n",
    "        print(dictionary_product)\n",
    "\n",
    "    if choice == '3':\n",
    "\n",
    "        product_name = input(\"\"\"Name of the product? \\n\"\"\")\n",
    "\n",
    "        if product_name in list(db['product_name']):\n",
    "\n",
    "            quantity = db[db['product_name'] == product_name]['quantity'].values[0]\n",
    "            price = db[db['product_name'] == product_name]['price'].values[0]\n",
    "\n",
    "            if quantity == 0:\n",
    "                print('No more items!')\n",
    "\n",
    "            elif quantity > 0:\n",
    "                print('You bought %s for %s $' %(product_name,price * quantity))\n",
    "                items = input(\"\"\"How many items you want to take? \\n\"\"\")\n",
    "                db.loc[db.quantity == quantity, 'quantity'] = quantity - int(items)\n",
    "                quantity_new = db[db['product_name'] == product_name]['quantity'].values[0]\n",
    "                print('You had %s and now you have left %s items' %(quantity,quantity_new))\n",
    "\n",
    "        else:\n",
    "            print('The product you selcted does not exist!')\n",
    "\n",
    "    if choice == '4':\n",
    "\n",
    "        print(db)\n",
    "    \n",
    "print('BYE!')"
   ]
  },
  {
   "cell_type": "code",
   "execution_count": null,
   "id": "49f0301d",
   "metadata": {},
   "outputs": [],
   "source": []
  }
 ],
 "metadata": {
  "kernelspec": {
   "display_name": "Python 3",
   "language": "python",
   "name": "python3"
  },
  "language_info": {
   "codemirror_mode": {
    "name": "ipython",
    "version": 3
   },
   "file_extension": ".py",
   "mimetype": "text/x-python",
   "name": "python",
   "nbconvert_exporter": "python",
   "pygments_lexer": "ipython3",
   "version": "3.8.8"
  }
 },
 "nbformat": 4,
 "nbformat_minor": 5
}
